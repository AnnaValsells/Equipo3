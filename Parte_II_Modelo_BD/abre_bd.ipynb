{
 "cells": [
  {
   "cell_type": "code",
   "execution_count": 2,
   "metadata": {},
   "outputs": [
    {
     "name": "stdout",
     "output_type": "stream",
     "text": [
      "('010203AMK', 'Ana Laura', 'Bautista', 'Cárdenas', 'Calle Avión 22', 'Madrid', 28001, 123456789, 'analaura@example.com', '16/05/2015')\n",
      "('010207CBA', 'Javier', 'Rodríguez', 'García', 'Carrer del Calçots 14', 'Barcelona', 8002, 234567890, 'javier@example.com', '16/05/2015')\n",
      "('160104PVB', 'Sofía', 'Pérez', 'Díaz', 'Carrer de la Pau 14', 'Valencia', 46001, 345678901, 'sofia@example.com', '01/07/2016')\n",
      "('030203ASC', 'Carlos', 'López', 'Martínez', 'Calle Arjona 21', 'Sevilla', 41001, 456789012, 'carlos@example.com', '23/09/2017')\n",
      "('120205EZD', 'María José', 'Fernández', 'González', 'Calle Ebro 14', 'Zaragoza', 50001, 567890123, 'mariajose@example.com', '12/11/2018')\n",
      "('100319FME', 'Juan', 'Martí', 'Sánchez', 'Calle Falsa 12', 'Málaga', 29001, 678901234, 'juanthenumberone@example.com', '05/01/2019')\n",
      "('010606CBG', 'Luis', 'Martínez', 'López', 'Avenida de la Constitución 21', 'Bilbao', 48002, 789012345, 'luisdebilbo@example.com', '20/03/2020')\n",
      "('120718TMG', 'David', 'Díaz', 'Romero', 'Calle Trapería 15', 'Murcia', 30001, 890123456, 'davidtrapero@example.com', '07/05/2021')\n",
      "('160307MPH', 'Pablo', 'Rodríguez', 'López', 'Calle de Sant Miquel 33', 'Palma de Mallorca', 7001, 901234567, 'esepablitotowapo@example.com', '19/07/2022')\n",
      "('010608ICH', 'Carmen', 'Martínez', 'Fernández', 'Paseo de la Independencia 16', 'Córdoba', 14001, 123450987, 'carmen@example.com', '28/09/2023')\n",
      "('020606LVG', 'Luis', 'Pérez', 'Cruz', 'Calle Lamprea 14', 'Vigo', 36201, 234509876, 'luisperez@example.com', '16/03/2024')\n",
      "('010303PGF', 'José', 'Pérez', 'Gómez', 'Calle de la Paz 6', 'Gijón', 33201, 345098765, 'Pepe@example.com', '08/08/2016')\n",
      "('050306LSE', 'Sergio', 'Jiménez', 'Alonso', 'Calle Laredo 14', 'Santander', 39001, 450987654, 'soyelsergio@example.com', '14/10/2017')\n",
      "('030308SZD', 'Manuel', 'Fernández', 'Sánchez', 'Calle de San Francisco 55', 'Zaragoza', 50002, 567890123, 'mellamomanuel@example.com', '03/12/2018')\n",
      "('100313PBE', 'Jorge', 'Pérez', 'García', 'Calle de la Paz 41', 'Barcelona', 8003, 678901234, 'jorge@example.com', '26/01/2019')\n",
      "('150317CVF', 'Luis', 'Martínez', 'López', 'Avenida de la Constitución 5', 'Valencia', 46003, 789012345, 'luis3@example.com', '09/04/2020')\n",
      "('030608TSG', 'Daniel', 'Gómez', 'López', 'Ronda Tamarguillo 14', 'Sevilla', 41003, 890123456, 'daniel@example.com', '18/06/2021')\n",
      "('090306AMH', 'Pedro', 'Ramírez', 'Álvarez', 'Calle del Arco 24', 'Málaga', 29003, 901234567, 'pedro@example.com', '05/08/2022')\n",
      "('080904CMA', 'Miguel', 'Fernández', 'García', 'Calle Calambre 42', 'Madrid', 28002, 234567890, 'miguel2@example.com', '12/10/2023')\n",
      "('090907PBB', 'Ricardo', 'Pérez', 'Gómez', 'Passeig de Poble nou 55', 'Barcelona', 8004, 345678901, 'ricardo@example.com', '12/10/2023')\n",
      "('010301HVC', 'Roberto', 'González', 'Gómez', 'Carrer Horchata 51', 'Valencia', 46004, 456789012, 'roberto@example.com', '23/12/2015')\n",
      "('030207TSD', 'Jesús', 'Ramírez', 'González', 'Calle Trajano 14', 'Sevilla', 41004, 567890123, 'jesus@example.com', '10/02/2017')\n",
      "('180107GZE', 'Cristian', 'Rodríguez', 'Pérez', 'Calle Gorrión 19', 'Zaragoza', 50003, 678901234, 'cristian@example.com', '27/03/2018')\n",
      "('090301RMF', 'Diego', 'Pérez', 'Sánchez', 'Calle Rio 6', 'Málaga', 29002, 789012345, 'diego@example.com', '08/05/2019')\n",
      "('040606GBG', 'Carlos', 'García', 'Alvarez', 'Avenida de Getxo 57', 'Bilbao', 48003, 890123456, 'carlos2@example.com', '08/05/2019')\n",
      "('080904MMA', 'Miguel', 'Fernández', 'García', 'Calle Mayor 12', 'Madrid', 28002, 234567890, 'miguel2@example.com', '21/07/2020')\n",
      "('090907GBB', 'Ricardo', 'Pérez', 'Gómez', 'Passeig de Gràcia 16', 'Barcelona', 8004, 345678901, 'ricardo@example.com', '04/09/2021')\n",
      "('010301VAC', 'Roberto', 'González', 'Gómez', 'Carrer de la Albufera 18', 'Valencia', 46004, 456789012, 'roberto@example.com', '06/09/2021')\n",
      "('030207BSD', 'Jesús', 'Ramírez', 'González', 'Calle Betis 20', 'Sevilla', 41004, 567890123, 'jesus@example.com', '13/11/2022')\n",
      "('180107CZE', 'Cristian', 'Rodríguez', 'Pérez', 'Calle del Cierzo 22', 'Zaragoza', 50003, 678901234, 'cristian@example.com', '22/01/2024')\n",
      "('090301SMF', 'Diego', 'Pérez', 'Sánchez', 'Calle Sevilla 4', 'Málaga', 29002, 789012345, 'diego@example.com', '03/12/2018')\n",
      "('030701ESB', 'Carlos', 'García', 'Alvarez', 'Calle Esturión 26', 'Bilbao', 48003, 890123456, 'carlos2@example.com', '12/10/2023')\n"
     ]
    }
   ],
   "source": [
    "import sqlite3\n",
    "\n",
    "# Conectar a la base de datos\n",
    "conexion = sqlite3.connect(\"ferreteria_bd.db\")\n",
    "\n",
    "# Crear un cursor\n",
    "cursor = conexion.cursor()\n",
    "\n",
    "# Ejecutar una consulta SQL\n",
    "cursor.execute(\"SELECT * FROM clientes\")\n",
    "\n",
    "# Obtener los resultados\n",
    "filas = cursor.fetchall()\n",
    "\n",
    "# Imprimir los resultados\n",
    "for fila in filas:\n",
    "    print(fila)\n",
    "\n",
    "# Cerrar la conexión\n",
    "conexion.close()"
   ]
  },
  {
   "cell_type": "code",
   "execution_count": null,
   "metadata": {},
   "outputs": [],
   "source": []
  }
 ],
 "metadata": {
  "kernelspec": {
   "display_name": "Python 3",
   "language": "python",
   "name": "python3"
  },
  "language_info": {
   "codemirror_mode": {
    "name": "ipython",
    "version": 3
   },
   "file_extension": ".py",
   "mimetype": "text/x-python",
   "name": "python",
   "nbconvert_exporter": "python",
   "pygments_lexer": "ipython3",
   "version": "3.10.11"
  }
 },
 "nbformat": 4,
 "nbformat_minor": 2
}
