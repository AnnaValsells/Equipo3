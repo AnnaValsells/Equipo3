{
 "cells": [
  {
   "cell_type": "code",
   "execution_count": 4,
   "metadata": {},
   "outputs": [],
   "source": [
    "import pandas as pd\n",
    "import os\n",
    "import sqlite3\n",
    "\n",
    "# Carpeta donde se encuentran los archivos Excel\n",
    "carpeta_excel = \"data\"\n",
    "\n",
    "# Conectar a la base de datos\n",
    "conn = sqlite3.connect(\"ferreteria_bd.db\")\n",
    "\n",
    "# Iterar sobre cada archivo de Excel en la carpeta\n",
    "for archivo in os.listdir(carpeta_excel):\n",
    "    if archivo.endswith(\".xlsx\"):\n",
    "        # Leer el archivo Excel\n",
    "        archivo_path = os.path.join(carpeta_excel, archivo)\n",
    "        xl = pd.ExcelFile(archivo_path)\n",
    "\n",
    "# Cerrar la conexión\n",
    "conn.close()"
   ]
  }
 ],
 "metadata": {
  "kernelspec": {
   "display_name": "Python 3",
   "language": "python",
   "name": "python3"
  },
  "language_info": {
   "codemirror_mode": {
    "name": "ipython",
    "version": 3
   },
   "file_extension": ".py",
   "mimetype": "text/x-python",
   "name": "python",
   "nbconvert_exporter": "python",
   "pygments_lexer": "ipython3",
   "version": "3.10.11"
  }
 },
 "nbformat": 4,
 "nbformat_minor": 2
}
