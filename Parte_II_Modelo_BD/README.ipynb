{
 "cells": [
  {
   "cell_type": "markdown",
   "metadata": {},
   "source": [
    "<img src=\"imagenes/OIG3.jpg\" style=\"border-radius: 20px;\">"
   ]
  },
  {
   "cell_type": "markdown",
   "metadata": {},
   "source": [
    "## **BASE DE DATOS - FERRETERÍA HERODES**"
   ]
  },
  {
   "cell_type": "markdown",
   "metadata": {},
   "source": [
    " **Equipo 3**, formado por: Alba María Romero, Anna Valsells, Pepe Reina y Unai Salas."
   ]
  },
  {
   "cell_type": "markdown",
   "metadata": {},
   "source": [
    "El archivo “FERRETERIA.ipynb” tiene la presentación de la base de datos.  \n",
    "En la carpeta “TABLAS” están las tablas en formato excell.  \n",
    "En la carpeta “JSON” están los archivos JSON de los que parte la base de datos.  \n"
   ]
  }
 ],
 "metadata": {
  "kernelspec": {
   "display_name": "Python 3",
   "language": "python",
   "name": "python3"
  },
  "language_info": {
   "name": "python",
   "version": "3.10.11"
  }
 },
 "nbformat": 4,
 "nbformat_minor": 2
}
