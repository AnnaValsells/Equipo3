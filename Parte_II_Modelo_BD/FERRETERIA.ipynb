{
 "cells": [
  {
   "cell_type": "markdown",
   "metadata": {},
   "source": [
    "<img src=\"imagenes/OIG3.jpg\" style=\"border-radius: 20px;\">\n",
    "\n"
   ]
  },
  {
   "cell_type": "markdown",
   "metadata": {},
   "source": [
    "**Somos una ferretería online formada por Anna Valsells (Directora financiera y de investigaciones), Alba María (Directora de marketing), Unai Salas (Experto en base de datos)**   \n",
    "**y Pepe Reina (Mozo de almacén y conductor de furgonetas). Nos une una pasión por tres cosas aparentemente distintas: los productos de**  \n",
    "**ferretería,  las bases de datos y las investigaciones. Sí, lo sé, es curioso, pero es así.**\n",
    "\n",
    "**En este Jupyter, presentamos con orgullo la base de datos de nuestra tienda online. Es el fruto de nuestra dedicación y entusiasmo por combinar nuestras dos grandes**  \n",
    "**pasiones en un proyecto  que esperamos que sirva a nuestros clientes, o sea... a nuestros compañeros de bootcamp, de ayuda.**\n",
    "\n",
    "**El departamento de criminalistica será presentado en otro momento por nuestra directora de investigaciones, Anna Valsells.**\n",
    "\n",
    "\n",
    "\n"
   ]
  },
  {
   "cell_type": "markdown",
   "metadata": {},
   "source": [
    "## El esquema de nuestra base de datos es la siguiente:\n",
    ">>Si quieres descargar la imagen en formato PNG puedes encontrarla [aquí.](https://github.com/AnnaValsells/Equipo3/tree/main/Parte_II_Modelo_BD/data)"
   ]
  },
  {
   "cell_type": "markdown",
   "metadata": {},
   "source": [
    "<img src=\"imagenes/esquema_final.png\" style=\"border-radius: 20px;\">"
   ]
  },
  {
   "cell_type": "markdown",
   "metadata": {},
   "source": [
    "## Esta base de datos se compone de las siguientes tablas:"
   ]
  },
  {
   "cell_type": "markdown",
   "metadata": {},
   "source": [
    "## Clientes:  \n",
    ">>**<span style=\"color:blue;\">IDCLIENTE</span>**  \n",
    ">>NOMBRE  \n",
    ">>APELLIDOS  \n",
    ">>DIRECCIÓN  \n",
    ">>ANTIGÜEDAD (LA FECHA DE LA PRIMERA COMPRA)  \n",
    ">>TELÉFONO  \n",
    ">>EMAIL\n",
    ">>>En esta tabla se muestra la información de contacto de los distintos clientes   \n",
    ">>>y se relaciona con \"Pedidos clientes\" y \"Facturas cliente\" mediante el campo IDCLIENTES."
   ]
  },
  {
   "cell_type": "markdown",
   "metadata": {},
   "source": [
    "## Facturas clientes:\n",
    ">>**<span style=\"color:blue;\">ID FACTURA</span>**  \n",
    ">>**<span style=\"color:blue;\">ID CLIENTE</span>**  \n",
    ">>**<span style=\"color:blue;\">ID PEDIDO</span>**  \n",
    ">>ESTATUS DE PAGO (Pagado o no)    \n",
    ">> PRECIO (Sin IVA)\n",
    ">>I.V.A.  \n",
    ">>MONTO DEL I.V.A.   \n",
    ">>PRECIO CON I.V.A.  \n",
    ">>FECHA EMISIÓN  \n",
    ">>FECHA VENCIMIENTO  \n",
    ">>> Esta tabla se relaciona con la tabla \"Clientes\" a través de \"ID clientes\"   \n",
    ">>>y con la tabla \"Pedido Clientes\" a través de \"ID pedidos\".  \n",
    ">>> En esta tabla queda reflejada la información de las facturas que le entregamos a los clientes.\n",
    "\n"
   ]
  },
  {
   "cell_type": "markdown",
   "metadata": {},
   "source": [
    "## Pedidos clientes:\n",
    ">>**<span style=\"color:blue;\">IDPEDIDO</span>**  \n",
    ">>**<span style=\"color:blue;\">ID CLIENTE</span>**  \n",
    ">>DESCUENTO (Un descuento, en porcentaje sobre el total)   \n",
    ">>FECHA PEDIDO (la fecha en la que se realizo el pedido)  \n",
    ">>FECHA SALIDA (la fecha en la que salió el pedido del almacén) \n",
    ">>> Esta tabla se relaciona con la tabla \"Clientes\" a través de \"ID clientes\"   \n",
    ">>>y con la tabla \"Facturas Clientes\" a través de \"ID pedidos\".  \n",
    ">>> En esta tabla queda reflejados los pedidos que los clientes han ido haciendo a lo largo del tiempo.\n",
    "\n"
   ]
  },
  {
   "cell_type": "markdown",
   "metadata": {},
   "source": [
    "## Envios:  \n",
    ">> NÚMERO DE SEGUIMIENTO (Facilitado por la compañia)  \n",
    ">>**<span style=\"color:blue;\">IDPEDIDO</span>**  \n",
    ">>COMPAÑIA (La empresa que se dedica al reparto.) \n",
    ">>> Esta tabla se relaciona, solo,  con la tabla \"Pedido clientes\" a través de \"ID Pedido\"  \n",
    ">>> Y en ella se recoge la informacion sobre los envios que hemos realizado, con  \n",
    ">>> empresas externas, que hemos realizado.   \n",
    "\n",
    "\n"
   ]
  },
  {
   "cell_type": "markdown",
   "metadata": {},
   "source": [
    "## Detalle_Pedidos_Clientes:\n",
    ">>**<span style=\"color:blue;\">ID DETALLE</span>**  \n",
    ">>**<span style=\"color:blue;\">ID PRODUCTO</span>**  \n",
    ">>CATIDAD (La cantidad de cada producto.)   \n",
    ">>> Esta tabla se relaciona con la tabla \"Pedido clientes\" a través de \"ID pedidos\" y con  \n",
    ">>> la tabla \"ListaProductos\" a traves de \"ID PRODUCTO\"  \n",
    ">>>En esta tabla se recoge la informacion de los dintitos productos y sus cantidades  \n",
    ">>>pedidos por cada cliente.\n",
    "\n"
   ]
  },
  {
   "cell_type": "markdown",
   "metadata": {},
   "source": [
    "## ListaProductos:\n",
    ">>**<span style=\"color:blue;\">ID PRODUCTO</span>**    \n",
    ">>NOMBRE (Nombre del producto)      \n",
    ">>Fabricante  \n",
    ">>**<span style=\"color:blue;\">ID PEDIDO</span>**  (En algunos productos proveedor y fabricante son el mismo)     \n",
    ">>PRECIO (De venta sin IVA)  \n",
    ">>CATEGORIA  \n",
    ">>SUBCATEGORIA  \n",
    ">>STOCK (Las unidades que quedan en nuestros almacenes)  \n",
    ">>MATERIAL  \n",
    ">>COLOR    \n",
    ">>> Esta tabla se relaciona con \"Detalle_pedidos_cliente\" a través de \"ID productos\"   \n",
    ">>> y con la tabla \"lista proveedores\" a través de \"ID proveedores\". En esta tabla se proporciona la informacion  \n",
    ">>> necesaria de cada producto, para poder doferenciar productos parecidos.\n",
    ">>>>Antes estaba normalizado, y tenismo una tabla tabla de detalle, como en clientes, qye se relacionaba con esta  \n",
    ">>>> a traves de \"ID producto\" pero sufrimos un ataque cibernetico y peridmos información. \n",
    "\n",
    "\n"
   ]
  },
  {
   "cell_type": "markdown",
   "metadata": {},
   "source": [
    "## ListaProveedores:\n",
    ">>**<span style=\"color:blue;\">ID proveedor</span>**  \n",
    ">>Nombre.  \n",
    ">>Ciudad   \n",
    ">>Dirección  \n",
    ">>Teléfono del comercial \n",
    ">>Correo del comercial.  \n",
    ">>> Esta tabla se relaciona con las tablas \"listaProductos\", \"Pedidos_a_proveedor\" y con \"Facturas_a_proveedor\"  \n",
    ">>>a través de \"ID proveedor\", y contiene la informacion de contacto de los distintos proveederes. \n",
    "\n",
    "\n"
   ]
  },
  {
   "cell_type": "markdown",
   "metadata": {},
   "source": [
    "## Pedidos_a_proveedores:\n",
    ">>**<span style=\"color:blue;\">ID pedido Proveedor</span>**  \n",
    ">>**<span style=\"color:blue;\">ID PROVEEDOR</span>**     \n",
    ">>FECHA PEDIDO  \n",
    ">>FECHA RECIBIDO  \n",
    ">>> Esta tabla se relaciona con las tablas \"Lista Proveedores\" y \"Facturas a Proveedores\"    \n",
    ">>> a través de \"ID proveedor\". Además, se relaciona con las tablas \"Facturas a Proveedores\" \n",
    ">>>y \"Detalle Pedido Proveedor\" mediante \"ID pedidos proveedor\".    \n",
    ">>> Contiene la información sobre los pedidos realizados a proveedores.   \n",
    ">>>> El ataque que sufrimos y fue mencionado antes afectó a las tablas de proveedores, aunque no hemos perdido información.  \n",
    "\n",
    "\n"
   ]
  },
  {
   "cell_type": "markdown",
   "metadata": {},
   "source": [
    "## Facturas de proveedores:\n",
    ">>**<span style=\"color:blue;\">ID FACTURA A PROVEEDORES</span>**  \n",
    ">>**<span style=\"color:blue;\">ID PROVEEDOR</span>**  \n",
    ">>**<span style=\"color:blue;\">ID PEDIDO PROVEEDOR</span>**  \n",
    ">>ESTATUS DE PAGO (Pagado o no)    \n",
    ">> PRECIO (Sin IVA)\n",
    ">>I.V.A.  \n",
    ">>MONTO DEL I.V.A.   \n",
    ">>PRECIO CON I.V.A.  \n",
    ">>FECHA EMISIÓN  \n",
    ">>FECHA VENCIMIENTO  \n",
    ">>> Este se relaciona con las tablas \"ListaProveedores\" y \"Pedido_a_Proveedores\" a través de \"ID proveedor\"     \n",
    ">>> En esta tabla se recoge informacion sobre la factura que los proveedores nos han emitido.\n",
    "\n"
   ]
  },
  {
   "cell_type": "markdown",
   "metadata": {},
   "source": [
    "## ESTA ES LA NUMERACIÓN DE LAS TABLAS QUE FORMAN EL DATAFRAME.\n",
    "1. Clientes\n",
    "2. Detalle_pedidos_de_clientes\n",
    "3. Envíos\n",
    "4. Facturas_a_clientes\n",
    "5. Lista de productos\n",
    "6. Lista de proveedores\n",
    "7. Pedidos a proveedores\n",
    "8. Pedidos de clientes\n",
    ">\n",
    "Usando el número de cada JSON, imprime los DataFrames usando el código de la siguiente celda.\n",
    ">>Estos se guardarán en una variable con el nombre indicado."
   ]
  },
  {
   "cell_type": "code",
   "execution_count": 20,
   "metadata": {},
   "outputs": [
    {
     "name": "stdout",
     "output_type": "stream",
     "text": [
      "El data frame Listaproveedores se ha creado con el nombre 'Df_listaproveedores'.\n"
     ]
    },
    {
     "data": {
      "text/html": [
       "<div>\n",
       "<style scoped>\n",
       "    .dataframe tbody tr th:only-of-type {\n",
       "        vertical-align: middle;\n",
       "    }\n",
       "\n",
       "    .dataframe tbody tr th {\n",
       "        vertical-align: top;\n",
       "    }\n",
       "\n",
       "    .dataframe thead th {\n",
       "        text-align: right;\n",
       "    }\n",
       "</style>\n",
       "<table border=\"1\" class=\"dataframe\">\n",
       "  <thead>\n",
       "    <tr style=\"text-align: right;\">\n",
       "      <th></th>\n",
       "      <th>ID PROVEEDORES</th>\n",
       "      <th>NOMBRE</th>\n",
       "      <th>CIUDAD</th>\n",
       "      <th>DIRECCION</th>\n",
       "      <th>TELEFONO DEL COMERCIAL</th>\n",
       "      <th>CORREO DEL COMERCIAL</th>\n",
       "    </tr>\n",
       "  </thead>\n",
       "  <tbody>\n",
       "    <tr>\n",
       "      <th>0</th>\n",
       "      <td>MED-035-CAR</td>\n",
       "      <td>MEDITERRANEO SL.</td>\n",
       "      <td>Cartagena</td>\n",
       "      <td>Calle del Mar menor 35</td>\n",
       "      <td>865146984</td>\n",
       "      <td>juan@mediterraneo.com</td>\n",
       "    </tr>\n",
       "    <tr>\n",
       "      <th>1</th>\n",
       "      <td>CLA-057-MAD</td>\n",
       "      <td>Clavex Solutions SL</td>\n",
       "      <td>Madrid</td>\n",
       "      <td>Calle Clavel 57</td>\n",
       "      <td>867149994</td>\n",
       "      <td>comerciales@clavex.com</td>\n",
       "    </tr>\n",
       "    <tr>\n",
       "      <th>2</th>\n",
       "      <td>RAU-029-COR</td>\n",
       "      <td>Hormigoneras y Volquetes Raul</td>\n",
       "      <td>Cordoba</td>\n",
       "      <td>Calle Mezquita 29</td>\n",
       "      <td>857144324</td>\n",
       "      <td>Raul@volquetesraul.com</td>\n",
       "    </tr>\n",
       "    <tr>\n",
       "      <th>3</th>\n",
       "      <td>LAU-012-LEO</td>\n",
       "      <td>Grupos Electrógenos Laura</td>\n",
       "      <td>León</td>\n",
       "      <td>Calle Azofaifa 12</td>\n",
       "      <td>878144314</td>\n",
       "      <td>Miriam@generadoreslaura.es</td>\n",
       "    </tr>\n",
       "    <tr>\n",
       "      <th>4</th>\n",
       "      <td>TUB-033-VAL</td>\n",
       "      <td>Tuberías y Conexiones S.A.</td>\n",
       "      <td>Valdepeñas</td>\n",
       "      <td>Calle Uva 33</td>\n",
       "      <td>895142310</td>\n",
       "      <td>fontaneria@plastmanch.com</td>\n",
       "    </tr>\n",
       "    <tr>\n",
       "      <th>5</th>\n",
       "      <td>REU-041-DOS</td>\n",
       "      <td>INTERMEDIARIOS DEL PEGAMENTO Y SILICONAS REUNITED</td>\n",
       "      <td>Dos Hermanas</td>\n",
       "      <td>Calle Gordal 41</td>\n",
       "      <td>475514632</td>\n",
       "      <td>josejuan@pegamentos.com</td>\n",
       "    </tr>\n",
       "    <tr>\n",
       "      <th>6</th>\n",
       "      <td>VIG-035-VIG</td>\n",
       "      <td>VIGENSE DE LA MADERA</td>\n",
       "      <td>Vigo</td>\n",
       "      <td>Calle Pinocho 35</td>\n",
       "      <td>355214631</td>\n",
       "      <td>Carmen@viguense.com</td>\n",
       "    </tr>\n",
       "    <tr>\n",
       "      <th>7</th>\n",
       "      <td>WON-003-DOS</td>\n",
       "      <td>Intermediarios del metal Wondershine S.l</td>\n",
       "      <td>Dos Hermanas</td>\n",
       "      <td>Calle Chipiona 3</td>\n",
       "      <td>56179586</td>\n",
       "      <td>maríabarroso@Wondershine.com</td>\n",
       "    </tr>\n",
       "  </tbody>\n",
       "</table>\n",
       "</div>"
      ],
      "text/plain": [
       "  ID PROVEEDORES                                             NOMBRE  \\\n",
       "0    MED-035-CAR                                   MEDITERRANEO SL.   \n",
       "1    CLA-057-MAD                                Clavex Solutions SL   \n",
       "2    RAU-029-COR                      Hormigoneras y Volquetes Raul   \n",
       "3    LAU-012-LEO                          Grupos Electrógenos Laura   \n",
       "4    TUB-033-VAL                         Tuberías y Conexiones S.A.   \n",
       "5    REU-041-DOS  INTERMEDIARIOS DEL PEGAMENTO Y SILICONAS REUNITED   \n",
       "6    VIG-035-VIG                               VIGENSE DE LA MADERA   \n",
       "7    WON-003-DOS           Intermediarios del metal Wondershine S.l   \n",
       "\n",
       "         CIUDAD               DIRECCION  TELEFONO DEL COMERCIAL  \\\n",
       "0     Cartagena  Calle del Mar menor 35               865146984   \n",
       "1        Madrid         Calle Clavel 57               867149994   \n",
       "2       Cordoba       Calle Mezquita 29               857144324   \n",
       "3          León       Calle Azofaifa 12               878144314   \n",
       "4    Valdepeñas            Calle Uva 33               895142310   \n",
       "5  Dos Hermanas         Calle Gordal 41               475514632   \n",
       "6          Vigo        Calle Pinocho 35               355214631   \n",
       "7  Dos Hermanas        Calle Chipiona 3                56179586   \n",
       "\n",
       "           CORREO DEL COMERCIAL  \n",
       "0         juan@mediterraneo.com  \n",
       "1        comerciales@clavex.com  \n",
       "2        Raul@volquetesraul.com  \n",
       "3    Miriam@generadoreslaura.es  \n",
       "4     fontaneria@plastmanch.com  \n",
       "5       josejuan@pegamentos.com  \n",
       "6           Carmen@viguense.com  \n",
       "7  maríabarroso@Wondershine.com  "
      ]
     },
     "metadata": {},
     "output_type": "display_data"
    }
   ],
   "source": [
    "import pandas as pd\n",
    "\n",
    "def leer_json_y_mostrar_df(numero_tabla):\n",
    "    nombres_archivos = [\n",
    "        \"clientes\",\n",
    "        \"detalle_pedidos_de_clientes\",\n",
    "        \"envios\",\n",
    "        \"facturas_a_clientes\",\n",
    "        \"listaproductos\",\n",
    "        \"listaproveedores\",\n",
    "        \"pedidos_a_prooveedores\",\n",
    "        \"pedidos_de_clientes\"\n",
    "    ]\n",
    "    \n",
    "    try:\n",
    "        nombre_archivo = nombres_archivos[numero_tabla - 1]  # Restamos 1 porque las listas en Python son indexadas desde 0\n",
    "        df = pd.read_json(f'JSON/{nombre_archivo}.json')\n",
    "        \n",
    "        # Guardar el DataFrame con el nombre correspondiente\n",
    "        nombre_df = f'Df_{nombres_archivos[numero_tabla - 1]}'\n",
    "        globals()[nombre_df] = df\n",
    "        \n",
    "        # Imprimir mensaje indicando que el DataFrame se ha creado\n",
    "        print(f\"El data frame {nombres_archivos[numero_tabla - 1].capitalize()} se ha creado con el nombre '{nombre_df}'.\")\n",
    "        \n",
    "        # Mostrar el DataFrame de forma más visual\n",
    "        display(df)  \n",
    "    except IndexError:\n",
    "        print(\"Por favor, introduce un número válido entre 1 y 8.\")\n",
    "\n",
    "def main():\n",
    "    try:\n",
    "        numero_tabla = int(input(\"Introduce el número de la tabla que deseas ver: \"))\n",
    "        leer_json_y_mostrar_df(numero_tabla)\n",
    "    except ValueError:\n",
    "        print(\"Por favor, introduce un número válido.\")\n",
    "\n",
    "if __name__ == \"__main__\":\n",
    "    main()\n"
   ]
  }
 ],
 "metadata": {
  "kernelspec": {
   "display_name": "Python 3",
   "language": "python",
   "name": "python3"
  },
  "language_info": {
   "codemirror_mode": {
    "name": "ipython",
    "version": 3
   },
   "file_extension": ".py",
   "mimetype": "text/x-python",
   "name": "python",
   "nbconvert_exporter": "python",
   "pygments_lexer": "ipython3",
   "version": "3.10.11"
  }
 },
 "nbformat": 4,
 "nbformat_minor": 2
}
