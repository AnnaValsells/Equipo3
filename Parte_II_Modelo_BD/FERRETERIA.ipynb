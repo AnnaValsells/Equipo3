{
 "cells": [
  {
   "cell_type": "markdown",
   "metadata": {},
   "source": [
    "<img src=\"imagenes/OIG3.jpg\" style=\"border-radius: 20px;\">\n",
    "\n"
   ]
  },
  {
   "cell_type": "markdown",
   "metadata": {},
   "source": [
    "**Somos una ferretería online formada por Anna Valsells (Directora financiera y de investigaciones), Alba María (Directora de marketing), Unai Salas (Experto en base de datos)**   \n",
    "**y Pepe Reina (Mozo de almacén y conductor de furgonetas). Nos une una pasión por tres cosas aparentemente distintas: los productos de**  \n",
    "**ferretería,  las bases de datos y las investigaciones. Sí, lo sé, es curioso, pero es así.**\n",
    "\n",
    "**En este Jupyter, presentamos con orgullo la base de datos de nuestra tienda online. Es el fruto de nuestra dedicación y entusiasmo por combinar nuestras dos grandes**  \n",
    "**pasiones en un proyecto  que esperamos que sirva a nuestros clientes, o sea... a nuestros compañeros de bootcamp, de ayuda.**\n",
    "\n",
    "**El departamento de criminalistica será presentado en otro momento por nuestra directora de investigaciones, Anna Valsells.**\n",
    "\n",
    "\n",
    "\n"
   ]
  },
  {
   "cell_type": "markdown",
   "metadata": {},
   "source": [
    "## El esquema de nuestra base de datos es la siguiente:\n",
    ">>Si quieres descargar la imagen en formato PNG puedes encontrarla [aquí.](https://github.com/AnnaValsells/Equipo3/tree/main/Parte_II_Modelo_BD/data)"
   ]
  },
  {
   "cell_type": "markdown",
   "metadata": {},
   "source": [
    "<img src=\"imagenes/esquema_final.png\" style=\"border-radius: 20px;\">"
   ]
  },
  {
   "cell_type": "markdown",
   "metadata": {},
   "source": [
    "## Esta base de datos se compone de las siguientes tablas:"
   ]
  },
  {
   "cell_type": "markdown",
   "metadata": {},
   "source": [
    "## Clientes:  \n",
    ">>**<span style=\"color:blue;\">IDCLIENTE</span>**  \n",
    ">>NOMBRE  \n",
    ">>APELLIDOS  \n",
    ">>DIRECCIÓN  \n",
    ">>ANTIGÜEDAD (LA FECHA DE LA PRIMERA COMPRA)  \n",
    ">>TELÉFONO  \n",
    ">>EMAIL\n",
    ">>>En esta tabla se muestra la información de contacto de los distintos clientes   \n",
    ">>>y se relaciona con \"Pedidos clientes\" y \"Facturas cliente\" mediante el campo IDCLIENTES."
   ]
  },
  {
   "cell_type": "markdown",
   "metadata": {},
   "source": [
    "## Facturas clientes:\n",
    ">>**<span style=\"color:blue;\">ID FACTURA</span>**  \n",
    ">>**<span style=\"color:blue;\">ID CLIENTE</span>**  \n",
    ">>**<span style=\"color:blue;\">ID PEDIDO</span>**  \n",
    ">>ESTATUS DE PAGO (Pagado o no)    \n",
    ">> PRECIO (Sin IVA)\n",
    ">>I.V.A.  \n",
    ">>MONTO DEL I.V.A.   \n",
    ">>PRECIO CON I.V.A.  \n",
    ">>FECHA EMISIÓN  \n",
    ">>FECHA VENCIMIENTO  \n",
    ">>> Esta tabla se relaciona con la tabla \"Clientes\" a través de \"ID clientes\"   \n",
    ">>>y con la tabla \"Pedido Clientes\" a través de \"ID pedidos\".  \n",
    ">>> En esta tabla queda reflejada la información de las facturas que le entregamos a los clientes.\n",
    "\n"
   ]
  },
  {
   "cell_type": "markdown",
   "metadata": {},
   "source": [
    "## Pedidos clientes:\n",
    ">>**<span style=\"color:blue;\">IDPEDIDO</span>**  \n",
    ">>**<span style=\"color:blue;\">ID CLIENTE</span>**  \n",
    ">>DESCUENTO (Un descuento, en porcentaje sobre el total)   \n",
    ">>FECHA PEDIDO (la fecha en la que se realizo el pedido)  \n",
    ">>FECHA SALIDA (la fecha en la que salió el pedido del almacén) \n",
    ">>> Esta tabla se relaciona con la tabla \"Clientes\" a través de \"ID clientes\"   \n",
    ">>>y con la tabla \"Facturas Clientes\" a través de \"ID pedidos\".  \n",
    ">>> En esta tabla queda reflejados los pedidos que los clientes han ido haciendo a lo largo del tiempo.\n",
    "\n"
   ]
  },
  {
   "cell_type": "markdown",
   "metadata": {},
   "source": [
    "## Envios:  \n",
    ">> NÚMERO DE SEGUIMIENTO (Facilitado por la compañia)  \n",
    ">>**<span style=\"color:blue;\">IDPEDIDO</span>**  \n",
    ">>COMPAÑIA (La empresa que se dedica al reparto.) \n",
    ">>> Esta tabla se relaciona, solo,  con la tabla \"Pedido clientes\" a través de \"ID Pedido\"  \n",
    ">>> Y en ella se recoge la informacion sobre los envios que hemos realizado, con  \n",
    ">>> empresas externas, que hemos realizado.   \n",
    "\n",
    "\n"
   ]
  },
  {
   "cell_type": "markdown",
   "metadata": {},
   "source": [
    "## Detalle_Pedidos_Clientes:\n",
    ">>**<span style=\"color:blue;\">ID DETALLE</span>**  \n",
    ">>**<span style=\"color:blue;\">ID PRODUCTO</span>**  \n",
    ">>CATIDAD (La cantidad de cada producto.)   \n",
    ">>> Esta tabla se relaciona con la tabla \"Pedido clientes\" a través de \"ID pedidos\" y con  \n",
    ">>> la tabla \"ListaProductos\" a traves de \"ID PRODUCTO\"  \n",
    ">>>En esta tabla se recoge la informacion de los dintitos productos y sus cantidades  \n",
    ">>>pedidos por cada cliente.\n",
    "\n"
   ]
  },
  {
   "cell_type": "markdown",
   "metadata": {},
   "source": [
    "## ListaProductos:\n",
    ">>**<span style=\"color:blue;\">ID PRODUCTO</span>**    \n",
    ">>NOMBRE (Nombre del producto)      \n",
    ">>Fabricante  \n",
    ">>**<span style=\"color:blue;\">ID PEDIDO</span>**  (En algunos productos proveedor y fabricante son el mismo)     \n",
    ">>PRECIO (De venta sin IVA)  \n",
    ">>CATEGORIA  \n",
    ">>SUBCATEGORIA  \n",
    ">>STOCK (Las unidades que quedan en nuestros almacenes)  \n",
    ">>MATERIAL  \n",
    ">>COLOR    \n",
    ">>> Esta tabla se relaciona con \"Detalle_pedidos_cliente\" a través de \"ID productos\"   \n",
    ">>> y con la tabla \"lista proveedores\" a través de \"ID proveedores\". En esta tabla se proporciona la informacion  \n",
    ">>> necesaria de cada producto, para poder doferenciar productos parecidos.\n",
    ">>>>Antes estaba normalizado, y tenismo una tabla tabla de detalle, como en clientes, qye se relacionaba con esta  \n",
    ">>>> a traves de \"ID producto\" pero sufrimos un ataque cibernetico y peridmos información. \n",
    "\n",
    "\n"
   ]
  },
  {
   "cell_type": "markdown",
   "metadata": {},
   "source": [
    "## ListaProveedores:\n",
    ">>**<span style=\"color:blue;\">ID proveedor</span>**  \n",
    ">>Nombre.  \n",
    ">>Ciudad   \n",
    ">>Dirección  \n",
    ">>Teléfono del comercial \n",
    ">>Correo del comercial.  \n",
    ">>> Esta tabla se relaciona con las tablas \"listaProductos\", \"Pedidos_a_proveedor\" y con \"Facturas_a_proveedor\"  \n",
    ">>>a través de \"ID proveedor\", y contiene la informacion de contacto de los distintos proveederes. \n",
    "\n",
    "\n"
   ]
  },
  {
   "cell_type": "markdown",
   "metadata": {},
   "source": [
    "## Pedidos_a_proveedores:\n",
    ">>**<span style=\"color:blue;\">ID pedido Proveedor</span>**  \n",
    ">>**<span style=\"color:blue;\">ID PROVEEDOR</span>**     \n",
    ">>FECHA PEDIDO  \n",
    ">>FECHA RECIBIDO  \n",
    ">>> Esta tabla se relaciona con las tablas \"Lista Proveedores\" y \"Facturas a Proveedores\"    \n",
    ">>> a través de \"ID proveedor\". Además, se relaciona con las tablas \"Facturas a Proveedores\" \n",
    ">>>y \"Detalle Pedido Proveedor\" mediante \"ID pedidos proveedor\".    \n",
    ">>> Contiene la información sobre los pedidos realizados a proveedores.   \n",
    ">>>> El ataque que sufrimos y fue mencionado antes afectó a las tablas de proveedores, aunque no hemos perdido información.  \n",
    "\n",
    "\n"
   ]
  },
  {
   "cell_type": "markdown",
   "metadata": {},
   "source": [
    "## Facturas de proveedores:\n",
    ">>**<span style=\"color:blue;\">ID FACTURA A PROVEEDORES</span>**  \n",
    ">>**<span style=\"color:blue;\">ID PROVEEDOR</span>**  \n",
    ">>**<span style=\"color:blue;\">ID PEDIDO PROVEEDOR</span>**  \n",
    ">>ESTATUS DE PAGO (Pagado o no)    \n",
    ">> PRECIO (Sin IVA)\n",
    ">>I.V.A.  \n",
    ">>MONTO DEL I.V.A.   \n",
    ">>PRECIO CON I.V.A.  \n",
    ">>FECHA EMISIÓN  \n",
    ">>FECHA VENCIMIENTO  \n",
    ">>> Este se relaciona con las tablas \"ListaProveedores\" y \"Pedido_a_Proveedores\" a través de \"ID proveedor\"     \n",
    ">>> En esta tabla se recoge informacion sobre la factura que los proveedores nos han emitido.\n",
    "\n"
   ]
  }
 ],
 "metadata": {
  "kernelspec": {
   "display_name": "Python 3",
   "language": "python",
   "name": "python3"
  },
  "language_info": {
   "codemirror_mode": {
    "name": "ipython",
    "version": 3
   },
   "file_extension": ".py",
   "mimetype": "text/x-python",
   "name": "python",
   "nbconvert_exporter": "python",
   "pygments_lexer": "ipython3",
   "version": "3.10.11"
  }
 },
 "nbformat": 4,
 "nbformat_minor": 2
}
