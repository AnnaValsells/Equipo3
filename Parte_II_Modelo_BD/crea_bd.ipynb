{
 "cells": [
  {
   "cell_type": "code",
   "execution_count": 1,
   "metadata": {},
   "outputs": [],
   "source": [
    "import pandas as pd\n",
    "import sqlite3\n",
    "\n",
    "# Leer los archivos de Excel\n",
    "archivo1 = \"./data/clientes.xlsx\"\n",
    "archivo2 = \"./data/detalle pedidos.xlsx\"\n",
    "archivo3 = \"./data/envios.xlsx\"\n",
    "archivo4 = \"./data/facturas clientes.xlsx\"\n",
    "archivo5 = \"./data/facturas proveedores.xlsx\"\n",
    "archivo6 = \"./data/pedidos a proveedores.xlsx\"\n",
    "archivo7 = \"./data/pedidos clientes.xlsx\"\n",
    "archivo8 = \"./data/productos.xlsx\"\n",
    "archivo9 = \"./data/proveedores.xlsx\"\n",
    "\n",
    "df1 = pd.read_excel(archivo1)\n",
    "df2 = pd.read_excel(archivo2)\n",
    "df3 = pd.read_excel(archivo3)\n",
    "df4 = pd.read_excel(archivo4)\n",
    "df5 = pd.read_excel(archivo5)\n",
    "df6 = pd.read_excel(archivo6)\n",
    "df7 = pd.read_excel(archivo7)\n",
    "df8 = pd.read_excel(archivo8)\n",
    "df9 = pd.read_excel(archivo9)\n",
    "\n",
    "# Crear una conexión a la base de datos SQLite\n",
    "conexion = sqlite3.connect(\"ferreteria_bd.db\")\n",
    "\n",
    "# Insertar los datos en la base de datos\n",
    "df1.to_sql(\"clientes\", conexion, if_exists=\"replace\", index=False)\n",
    "df2.to_sql(\"detalle pedidos\", conexion, if_exists=\"replace\", index=False)\n",
    "df3.to_sql(\"envios\", conexion, if_exists=\"replace\", index=False)\n",
    "df4.to_sql(\"facturas clientes\", conexion, if_exists=\"replace\", index=False)\n",
    "df5.to_sql(\"facturas proveedores\", conexion, if_exists=\"replace\", index=False)\n",
    "df6.to_sql(\"pedidos a proveedores\", conexion, if_exists=\"replace\", index=False)\n",
    "df7.to_sql(\"pedidos clientes\", conexion, if_exists=\"replace\", index=False)\n",
    "df8.to_sql(\"porductos\", conexion, if_exists=\"replace\", index=False)\n",
    "df9.to_sql(\"proveedores\", conexion, if_exists=\"replace\", index=False)\n",
    "\n",
    "# Cerrar la conexión\n",
    "conexion.close()"
   ]
  },
  {
   "cell_type": "code",
   "execution_count": null,
   "metadata": {},
   "outputs": [],
   "source": []
  }
 ],
 "metadata": {
  "kernelspec": {
   "display_name": "Python 3",
   "language": "python",
   "name": "python3"
  },
  "language_info": {
   "codemirror_mode": {
    "name": "ipython",
    "version": 3
   },
   "file_extension": ".py",
   "mimetype": "text/x-python",
   "name": "python",
   "nbconvert_exporter": "python",
   "pygments_lexer": "ipython3",
   "version": "3.10.11"
  }
 },
 "nbformat": 4,
 "nbformat_minor": 2
}
